{
 "cells": [
  {
   "cell_type": "code",
   "execution_count": 6,
   "metadata": {},
   "outputs": [],
   "source": [
    "import cv2\n",
    "import numpy as np"
   ]
  },
  {
   "cell_type": "code",
   "execution_count": 7,
   "metadata": {},
   "outputs": [],
   "source": [
    "#Init camera\n",
    "cap = cv2.VideoCapture(0)\n",
    "\n",
    "#Face detection\n",
    "face_cascade = cv2.CascadeClassifier('/Volumes/part3/haarcascades_frontalface_alt.xml')"
   ]
  },
  {
   "cell_type": "code",
   "execution_count": 8,
   "metadata": {},
   "outputs": [
    {
     "name": "stdout",
     "output_type": "stream",
     "text": [
      "Enter the name of the person : Pranav\n",
      "1\n",
      "2\n",
      "3\n",
      "4\n",
      "5\n",
      "6\n",
      "7\n",
      "8\n",
      "9\n",
      "10\n",
      "11\n",
      "12\n",
      "13\n",
      "14\n",
      "15\n",
      "16\n",
      "17\n",
      "18\n",
      "19\n",
      "20\n",
      "21\n",
      "22\n",
      "23\n",
      "24\n",
      "25\n",
      "26\n",
      "27\n",
      "28\n",
      "29\n",
      "30\n",
      "(30, 100, 100, 3)\n",
      "(30, 30000)\n",
      "Data successfully stored at : /Volumes/part3/faceRecogDataSet/Pranav.npy\n"
     ]
    }
   ],
   "source": [
    "skip=0\n",
    "\n",
    "faceData = []\n",
    "datasetPath = '/Volumes/part3/faceRecogDataSet/'\n",
    "\n",
    "fileName = input(\"Enter the name of the person : \")\n",
    "\n",
    "while True:\n",
    "    \n",
    "    ret , frame = cap.read()\n",
    "    #grayFrame = cv2.cvtColor(frame , cv2.COLOR_BGR2GRAY)\n",
    "    \n",
    "    if (ret==False):\n",
    "        continue\n",
    "        \n",
    "    \n",
    "    faces = face_cascade.detectMultiScale(frame , 1.3 , 5)\n",
    "    #print(faces)\n",
    "    \n",
    "    faces = sorted(faces , key=lambda f:f[2]*f[3])\n",
    "    \n",
    "    # picking up the largest face \n",
    "    for face in faces[-1:]:\n",
    "        \n",
    "        x,y,w,h = face\n",
    "        cv2.rectangle(frame ,(x,y),(x+w,y+h),(255,0,0),2)\n",
    "        \n",
    "        # Cropping out the face(The region of interest)\n",
    "        \n",
    "        offset = 10\n",
    "        faceSection = frame[y-offset : y+h+offset , x-offset : x+w+offset]\n",
    "        faceSection = cv2.resize(faceSection , (100,100))\n",
    "        cv2.imshow('Face Section' , faceSection)\n",
    "        if(skip%10 == 0):\n",
    "            faceData.append(faceSection)\n",
    "            print(len(faceData))\n",
    "    \n",
    "    \n",
    "    skip+=1\n",
    "    \n",
    "    cv2.imshow('Video frame' , frame)\n",
    "    \n",
    "    \n",
    "    \n",
    "    keyPressed = cv2.waitKey(1) & 0xFF\n",
    "    if (keyPressed == ord('q')):\n",
    "        break\n",
    "        \n",
    "\n",
    "        \n",
    "faceData = np.asarray(faceData)\n",
    "print(faceData.shape)\n",
    "\n",
    "faceData = faceData.reshape((faceData.shape[0],-1))\n",
    "        \n",
    "print(faceData.shape)\n",
    "        \n",
    "## Save the data into file system\n",
    "\n",
    "np.save(datasetPath+fileName+'.npy' , faceData)\n",
    "print('Data successfully stored at : '+datasetPath+fileName+'.npy')\n",
    "        \n",
    "cap.release()\n",
    "cv2.destroyAllWindows()"
   ]
  },
  {
   "cell_type": "code",
   "execution_count": null,
   "metadata": {},
   "outputs": [],
   "source": []
  }
 ],
 "metadata": {
  "kernelspec": {
   "display_name": "Python 3",
   "language": "python",
   "name": "python3"
  },
  "language_info": {
   "codemirror_mode": {
    "name": "ipython",
    "version": 3
   },
   "file_extension": ".py",
   "mimetype": "text/x-python",
   "name": "python",
   "nbconvert_exporter": "python",
   "pygments_lexer": "ipython3",
   "version": "3.7.0"
  }
 },
 "nbformat": 4,
 "nbformat_minor": 2
}
